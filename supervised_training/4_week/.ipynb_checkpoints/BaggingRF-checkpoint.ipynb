{
 "cells": [
  {
   "cell_type": "code",
   "execution_count": 89,
   "metadata": {},
   "outputs": [
    {
     "name": "stdout",
     "output_type": "stream",
     "text": [
      "Populating the interactive namespace from numpy and matplotlib\n"
     ]
    }
   ],
   "source": [
    "import sklearn.datasets as ds\n",
    "from sklearn.model_selection import cross_val_score as cv_score\n",
    "import sklearn.tree as tr\n",
    "from sklearn.ensemble import BaggingClassifier as bc\n",
    "from sklearn.ensemble import RandomForestClassifier as rf\n",
    "import math\n",
    "\n",
    "%pylab inline"
   ]
  },
  {
   "cell_type": "code",
   "execution_count": 90,
   "metadata": {},
   "outputs": [],
   "source": [
    "df = ds.load_digits()"
   ]
  },
  {
   "cell_type": "code",
   "execution_count": 91,
   "metadata": {},
   "outputs": [],
   "source": [
    "X = df['data']\n",
    "y = df['target']"
   ]
  },
  {
   "cell_type": "code",
   "execution_count": 37,
   "metadata": {},
   "outputs": [],
   "source": [
    "def quality(model):\n",
    "    return cv_score(model, X, y, cv=10, n_jobs=-2).mean()"
   ]
  },
  {
   "cell_type": "code",
   "execution_count": 60,
   "metadata": {},
   "outputs": [],
   "source": [
    "def answer(question, answer):\n",
    "    print(answer)\n",
    "    with open(question, \"w\") as f:\n",
    "        f.write(answer)"
   ]
  },
  {
   "cell_type": "code",
   "execution_count": 77,
   "metadata": {},
   "outputs": [
    {
     "name": "stdout",
     "output_type": "stream",
     "text": [
      "CPU times: user 54.6 ms, sys: 3.98 ms, total: 58.6 ms\n",
      "Wall time: 89.3 ms\n"
     ]
    }
   ],
   "source": [
    "%%time\n",
    "ans1 = quality(tr.DecisionTreeClassifier())"
   ]
  },
  {
   "cell_type": "code",
   "execution_count": 61,
   "metadata": {},
   "outputs": [
    {
     "name": "stdout",
     "output_type": "stream",
     "text": [
      "0.8286013766652399\n"
     ]
    }
   ],
   "source": [
    "answer('1.txt', str(ans1))"
   ]
  },
  {
   "cell_type": "code",
   "execution_count": 76,
   "metadata": {},
   "outputs": [
    {
     "name": "stdout",
     "output_type": "stream",
     "text": [
      "CPU times: user 70.9 ms, sys: 8.52 ms, total: 79.4 ms\n",
      "Wall time: 2.72 s\n"
     ]
    }
   ],
   "source": [
    "%%time\n",
    "ans2 = quality(bc(n_estimators=100, n_jobs=-2))"
   ]
  },
  {
   "cell_type": "code",
   "execution_count": 62,
   "metadata": {},
   "outputs": [
    {
     "name": "stdout",
     "output_type": "stream",
     "text": [
      "0.922193838474484\n"
     ]
    }
   ],
   "source": [
    "answer('2.txt', str(ans2))"
   ]
  },
  {
   "cell_type": "code",
   "execution_count": 75,
   "metadata": {},
   "outputs": [
    {
     "name": "stdout",
     "output_type": "stream",
     "text": [
      "CPU times: user 70.3 ms, sys: 3.83 ms, total: 74.1 ms\n",
      "Wall time: 1.01 s\n"
     ]
    }
   ],
   "source": [
    "%%time\n",
    "ans3 = quality(bc(n_estimators=100, max_features=int(math.sqrt(X.shape[1])), n_jobs=-2))"
   ]
  },
  {
   "cell_type": "code",
   "execution_count": 64,
   "metadata": {},
   "outputs": [
    {
     "name": "stdout",
     "output_type": "stream",
     "text": [
      "0.9365589185725612\n"
     ]
    }
   ],
   "source": [
    "answer('3.txt', str(ans3))"
   ]
  },
  {
   "cell_type": "code",
   "execution_count": 74,
   "metadata": {},
   "outputs": [
    {
     "name": "stdout",
     "output_type": "stream",
     "text": [
      "CPU times: user 51.1 ms, sys: 31.8 ms, total: 82.9 ms\n",
      "Wall time: 1.18 s\n"
     ]
    }
   ],
   "source": [
    "%%time\n",
    "ans4 = quality(bc(base_estimator=tr.DecisionTreeClassifier(max_features='sqrt'), n_estimators=100, n_jobs=-2))"
   ]
  },
  {
   "cell_type": "code",
   "execution_count": 65,
   "metadata": {},
   "outputs": [
    {
     "name": "stdout",
     "output_type": "stream",
     "text": [
      "0.9505601646228452\n"
     ]
    }
   ],
   "source": [
    "answer('4.txt', str(ans4))"
   ]
  },
  {
   "cell_type": "code",
   "execution_count": 84,
   "metadata": {},
   "outputs": [
    {
     "name": "stdout",
     "output_type": "stream",
     "text": [
      "n = 5: 0.8831373715201598\n",
      "n = 10: 0.9193089281297551\n",
      "n = 15: 0.933758322211361\n",
      "n = 20: 0.9422531850820162\n",
      "n = 25: 0.9461248619015784\n",
      "n = 30: 0.9460792380717743\n",
      "n = 35: 0.9438127938649524\n",
      "n = 40: 0.951027112188733\n",
      "n = 45: 0.9494390156957454\n",
      "n = 50: 0.9489175855536448\n",
      "n = 55: 0.9544595907732283\n",
      "n = 60: 0.9539006264703683\n",
      "n = 65: 0.9483275990639367\n",
      "n = 70: 0.9494342696852485\n",
      "n = 75: 0.9499957728121899\n",
      "n = 80: 0.9533762523357006\n",
      "n = 85: 0.9516262282978\n",
      "n = 90: 0.9483213568666832\n",
      "n = 95: 0.9466345895304901\n",
      "n = 100: 0.9522613822650812\n",
      "CPU times: user 2.34 s, sys: 230 ms, total: 2.57 s\n",
      "Wall time: 16.4 s\n"
     ]
    }
   ],
   "source": [
    "%%time\n",
    "n_tree = range(5, 101, 5)\n",
    "for n in n_tree:\n",
    "    print(f\"n = {n}:\", quality(rf(n_estimators=n, n_jobs=-2)))"
   ]
  },
  {
   "cell_type": "code",
   "execution_count": 82,
   "metadata": {},
   "outputs": [
    {
     "name": "stdout",
     "output_type": "stream",
     "text": [
      "n = 5: 0.9522207852793263\n",
      "n = 10: 0.9494239990759551\n",
      "n = 40: 0.941640778716829\n",
      "n = 50: 0.9344188755827109\n",
      "n = 60: 0.929944572419599\n",
      "CPU times: user 512 ms, sys: 39.7 ms, total: 552 ms\n",
      "Wall time: 8.22 s\n"
     ]
    }
   ],
   "source": [
    "%%time\n",
    "n_features = [5, 10, 40, 50, 60]\n",
    "for n in n_features:\n",
    "    print(f\"n = {n}:\", quality(rf(n_estimators=100, max_features=n, n_jobs=-2)))"
   ]
  },
  {
   "cell_type": "code",
   "execution_count": 87,
   "metadata": {},
   "outputs": [
    {
     "name": "stdout",
     "output_type": "stream",
     "text": [
      "n = None: 0.9572250195748229\n",
      "n = 5: 0.9125941004721698\n",
      "n = 6: 0.925433463735132\n",
      "CPU times: user 297 ms, sys: 31.6 ms, total: 328 ms\n",
      "Wall time: 2.92 s\n"
     ]
    }
   ],
   "source": [
    "%%time\n",
    "max_depths = [None, 5, 6]\n",
    "for n in max_depths:\n",
    "    print(f\"n = {n}:\", quality(rf(n_estimators=100, max_depth=n, n_jobs=-2)))"
   ]
  },
  {
   "cell_type": "code",
   "execution_count": 88,
   "metadata": {},
   "outputs": [
    {
     "name": "stdout",
     "output_type": "stream",
     "text": [
      "2 3 4 7\n"
     ]
    }
   ],
   "source": [
    "answer('5.txt', '2 3 4 7')"
   ]
  }
 ],
 "metadata": {
  "kernelspec": {
   "display_name": "Python 3",
   "language": "python",
   "name": "python3"
  },
  "language_info": {
   "codemirror_mode": {
    "name": "ipython",
    "version": 3
   },
   "file_extension": ".py",
   "mimetype": "text/x-python",
   "name": "python",
   "nbconvert_exporter": "python",
   "pygments_lexer": "ipython3",
   "version": "3.6.8"
  }
 },
 "nbformat": 4,
 "nbformat_minor": 2
}
