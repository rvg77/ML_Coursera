{
 "cells": [
  {
   "cell_type": "code",
   "execution_count": 3,
   "metadata": {},
   "outputs": [],
   "source": [
    "import pandas as pd\n",
    "import numpy as np# x = np.linspace(-4,4,100)\n",
    "# pdf = norm_rv.pdf(x)\n",
    "# plt.plot(x, pdf, label='theoretical pdf', alpha=0.5)\n",
    "# plt.legend()\n",
    "# plt.ylabel('$f(x)$')\n",
    "# plt.xlabel('$x$')# x = np.linspace(-4,4,100)\n",
    "# pdf = norm_rv.pdf(x)\n",
    "# plt.plot(x, pdf, label='theoretical pdf', alpha=0.5)\n",
    "# plt.legend()\n",
    "# plt.ylabel('$f(x)$')\n",
    "# plt.xlabel('$x$')\n",
    "import matplotlib.pyplot as plt\n",
    "import scipy.stats as sts\n",
    "%matplotlib inline"
   ]
  },
  {
   "cell_type": "markdown",
   "metadata": {},
   "source": [
    "# Дискретное распределение"
   ]
  },
  {
   "cell_type": "markdown",
   "metadata": {},
   "source": [
    "Сгенерируем выборку объёма 100 из дискретного распределения с шестью равновероятными исходами."
   ]
  },
  {
   "cell_type": "code",
   "execution_count": 4,
   "metadata": {},
   "outputs": [],
   "source": [
    "sample = np.random.choice([1,2,3,4,5,6], 100)"
   ]
  },
  {
   "cell_type": "markdown",
   "metadata": {},
   "source": [
    "Представим теперь, что эта выборка была получена не искусственно, а путём подбрасывания симметричного шестигранного кубика 100 раз. Оценим вероятности выпадения каждой из сторон с помощью частот:"
   ]
  },
  {
   "cell_type": "code",
   "execution_count": 5,
   "metadata": {
    "scrolled": true
   },
   "outputs": [
    {
     "name": "stdout",
     "output_type": "stream",
     "text": [
      "Число выпадений каждой из сторон:\n",
      "Counter({4: 26, 5: 20, 2: 17, 6: 17, 3: 10, 1: 10})\n",
      "Вероятности выпадений каждой из сторон:\n",
      "{3: 0.1, 2: 0.17, 6: 0.17, 4: 0.26, 1: 0.1, 5: 0.2}\n"
     ]
    }
   ],
   "source": [
    "# посчитаем число выпадений каждой из сторон:\n",
    "from collections import Counter\n",
    "\n",
    "c = Counter(sample)\n",
    "\n",
    "print(\"Число выпадений каждой из сторон:\")    \n",
    "print(c)\n",
    "\n",
    "# теперь поделим на общее число подбрасываний и получим вероятности:\n",
    "print(\"Вероятности выпадений каждой из сторон:\")\n",
    "print({k: v/100.0 for k, v in c.items()})"
   ]
  },
  {
   "cell_type": "markdown",
   "metadata": {},
   "source": [
    "Это и есть оценка функции вероятности дискретного распределения."
   ]
  },
  {
   "cell_type": "markdown",
   "metadata": {},
   "source": [
    "# Непрерывное распределение"
   ]
  },
  {
   "cell_type": "markdown",
   "metadata": {},
   "source": [
    "Сгенерируем выборку объёма 100 из стандартного нормального распределения (с $\\mu=0$ и $\\sigma^2=1$):"
   ]
  },
  {
   "cell_type": "code",
   "execution_count": 7,
   "metadata": {},
   "outputs": [
    {
     "data": {
      "text/plain": [
       "array([-1.13385827e+00,  1.88144751e-01, -3.22591684e-01, -1.11265183e-01,\n",
       "       -7.33296998e-02, -1.31709633e-01, -1.03888659e+00,  3.81691695e-01,\n",
       "       -1.89666521e-01, -1.64693195e+00,  2.10009884e+00,  2.38199526e-01,\n",
       "       -2.67423357e+00,  9.84902161e-02,  8.01316904e-01, -1.05967691e+00,\n",
       "        4.23318391e-01, -4.29688182e-01, -5.75805695e-02, -1.67835198e+00,\n",
       "        9.67008453e-01, -1.22275198e+00, -2.34707993e-01,  1.34083777e-01,\n",
       "        1.41240789e+00,  3.56971418e-01, -1.40678624e+00,  3.38635667e-01,\n",
       "       -8.60136636e-01, -2.07814368e+00, -7.88676528e-01, -8.74342200e-01,\n",
       "        7.73950532e-01,  6.92267601e-01, -1.29108679e+00, -1.75993315e+00,\n",
       "        1.54625767e-01, -8.56722221e-01,  9.85147981e-01,  2.17779556e+00,\n",
       "       -5.83104604e-03,  9.24163448e-01, -3.25368025e-01, -1.25647600e+00,\n",
       "       -1.66573461e+00,  9.99122923e-02, -1.41253296e+00,  7.86637243e-01,\n",
       "       -4.46002570e-01, -1.18156799e+00, -3.03191734e-01,  1.17986860e+00,\n",
       "       -2.04313105e-01,  1.14017224e-01, -1.02983794e+00,  2.68828794e+00,\n",
       "        7.68890269e-01, -7.44022492e-02,  1.03336547e+00,  4.02438939e-01,\n",
       "       -1.30351052e-01, -6.43480675e-01,  5.05217903e-01,  8.59930838e-02,\n",
       "       -1.40307545e+00, -1.76699874e+00, -3.23370477e-01, -9.29106075e-02,\n",
       "       -8.10299230e-02, -1.35777435e+00,  9.79120523e-01,  3.81322037e-01,\n",
       "        7.38738129e-01,  6.86342481e-01,  7.89204223e-01, -4.31112508e-01,\n",
       "       -1.90510234e-01, -1.65471141e+00, -1.22833379e+00, -5.59092930e-01,\n",
       "       -2.72458465e-01,  8.33734712e-01, -1.18122591e+00,  9.20471507e-01,\n",
       "       -2.47534116e-01,  1.65942901e-01,  1.47769310e-01,  1.00220829e-01,\n",
       "       -8.18908245e-01,  1.82884962e+00, -5.93816806e-04, -3.69309278e-01,\n",
       "        1.50630549e+00, -4.00339803e-01, -3.02655299e-01,  5.57524588e-01,\n",
       "        8.21522770e-01,  5.55341805e-02, -1.92927966e-01,  7.04022265e-01])"
      ]
     },
     "execution_count": 7,
     "metadata": {},
     "output_type": "execute_result"
    }
   ],
   "source": [
    "norm_rv = sts.norm(0, 1)\n",
    "sample = norm_rv.rvs(100)\n",
    "sample"
   ]
  },
  {
   "cell_type": "markdown",
   "metadata": {},
   "source": [
    "Эмпирическая функция распределения для полученной выборки:"
   ]
  },
  {
   "cell_type": "code",
   "execution_count": 26,
   "metadata": {},
   "outputs": [
    {
     "data": {
      "text/plain": [
       "<matplotlib.legend.Legend at 0x7f1a23e61a20>"
      ]
     },
     "execution_count": 26,
     "metadata": {},
     "output_type": "execute_result"
    },
    {
     "data": {
      "image/png": "[encoded data removed]",
      "text/plain": [
       "<Figure size 432x288 with 1 Axes>"
      ]
     },
     "metadata": {
      "needs_background": "light"
     },
     "output_type": "display_data"
    }
   ],
   "source": [
    "\n",
    "x = np.linspace(-4,4,100)\n",
    "cdf = norm_rv.cdf(x)\n",
    "plt.plot(x, cdf, label='theoretical CDF')\n",
    "\n",
    "# для построения ECDF используем библиотеку statsmodels\n",
    "from statsmodels.distributions.empirical_distribution import ECDF\n",
    "ecdf = ECDF(sample)\n",
    "plt.step(ecdf.x, ecdf.y, label='ECDF')\n",
    "\n",
    "plt.ylabel('f(x)')\n",
    "plt.xlabel('x')\n",
    "plt.legend(loc='best')"
   ]
  },
  {
   "cell_type": "markdown",
   "metadata": {},
   "source": [
    "Гистограмма выборки:"
   ]
  },
  {
   "cell_type": "code",
   "execution_count": 36,
   "metadata": {},
   "outputs": [
    {
     "data": {
      "text/plain": [
       "Text(0.5, 0, '$x$')"
      ]
     },
     "execution_count": 36,
     "metadata": {},
     "output_type": "execute_result"
    },
    {
     "data": {
      "image/png": "[encoded data removed]",
      "text/plain": [
       "<Figure size 432x288 with 1 Axes>"
      ]
     },
     "metadata": {
      "needs_background": "light"
     },
     "output_type": "display_data"
    }
   ],
   "source": [
    "plt.hist(sample, density=True)\n",
    "plt.ylabel('fraction of samples')\n",
    "plt.xlabel('$x$')"
   ]
  },
  {
   "cell_type": "markdown",
   "metadata": {},
   "source": [
    "Попробуем задавать число карманов гистограммы вручную:"
   ]
  },
  {
   "cell_type": "code",
   "execution_count": 37,
   "metadata": {},
   "outputs": [
    {
     "data": {
      "text/plain": [
       "Text(0.5, 0, '$x$')"
      ]
     },
     "execution_count": 37,
     "metadata": {},
     "output_type": "execute_result"
    },
    {
     "data": {
      "image/png": "[encoded data removed]",
      "text/plain": [
       "<Figure size 432x288 with 1 Axes>"
      ]
     },
     "metadata": {
      "needs_background": "light"
     },
     "output_type": "display_data"
    }
   ],
   "source": [
    "plt.hist(sample, bins=3, density=True)\n",
    "plt.ylabel('fraction of samples')\n",
    "plt.xlabel('$x$')"
   ]
  },
  {
   "cell_type": "code",
   "execution_count": 40,
   "metadata": {},
   "outputs": [
    {
     "data": {
      "text/plain": [
       "Text(0.5, 0, '$x$')"
      ]
     },
     "execution_count": 40,
     "metadata": {},
     "output_type": "execute_result"
    },
    {
     "data": {
      "image/png": "[encoded data removed]",
      "text/plain": [
       "<Figure size 432x288 with 1 Axes>"
      ]
     },
     "metadata": {
      "needs_background": "light"
     },
     "output_type": "display_data"
    }
   ],
   "source": [
    "plt.hist(sample, bins=10, density=True)\n",
    "plt.ylabel('fraction of samples')\n",
    "plt.xlabel('$x$')"
   ]
  },
  {
   "cell_type": "markdown",
   "metadata": {},
   "source": [
    "Эмпирическая оценка плотности, построенная по выборке с помощью ядерного сглаживания:"
   ]
  },
  {
   "cell_type": "code",
   "execution_count": 48,
   "metadata": {},
   "outputs": [
    {
     "data": {
      "text/plain": [
       "Text(0.5, 0, '$x$')"
      ]
     },
     "execution_count": 48,
     "metadata": {},
     "output_type": "execute_result"
    },
    {
     "data": {
      "image/png": "[encoded data removed]",
      "text/plain": [
       "<Figure size 432x288 with 1 Axes>"
      ]
     },
     "metadata": {
      "needs_background": "light"
     },
     "output_type": "display_data"
    }
   ],
   "source": [
    "# для построения используем библиотеку Pandas:\n",
    "df = pd.DataFrame(sample, columns=['KDE'])\n",
    "ax = df.plot(kind='density')\n",
    "\n",
    "# на том же графике построим теоретическую плотность распределения:\n",
    "x = np.linspace(-4,4,100)\n",
    "pdf = norm_rv.pdf(x)\n",
    "plt.plot(x, pdf, label='theoretical pdf', alpha=0.5)\n",
    "plt.legend()\n",
    "plt.ylabel('$f(x)$')\n",
    "plt.xlabel('$x$')"
   ]
  }
 ],
 "metadata": {
  "anaconda-cloud": {},
  "kernelspec": {
   "display_name": "Python 3",
   "language": "python",
   "name": "python3"
  },
  "language_info": {
   "codemirror_mode": {
    "name": "ipython",
    "version": 3
   },
   "file_extension": ".py",
   "mimetype": "text/x-python",
   "name": "python",
   "nbconvert_exporter": "python",
   "pygments_lexer": "ipython3",
   "version": "3.6.7"
  }
 },
 "nbformat": 4,
 "nbformat_minor": 1
}
