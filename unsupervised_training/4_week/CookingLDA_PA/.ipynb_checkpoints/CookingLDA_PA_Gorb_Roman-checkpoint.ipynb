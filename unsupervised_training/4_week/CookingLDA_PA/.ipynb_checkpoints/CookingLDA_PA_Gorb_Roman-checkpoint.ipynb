{
 "cells": [
  {
   "cell_type": "markdown",
   "metadata": {},
   "source": [
    "# Programming Assignment: \n",
    "## Готовим LDA по рецептам"
   ]
  },
  {
   "cell_type": "markdown",
   "metadata": {},
   "source": [
    "**Перед запуском этого ноутбука нужно откатить версии gensim и scipy!!!**"
   ]
  },
  {
   "cell_type": "markdown",
   "metadata": {},
   "source": [
    "Как вы уже знаете, в тематическом моделировании делается предположение о том, что для определения тематики порядок слов в документе не важен; об этом гласит гипотеза «мешка слов». Сегодня мы будем работать с несколько нестандартной для тематического моделирования коллекцией, которую можно назвать «мешком ингредиентов», потому что она состоит из рецептов блюд разных кухонь. Тематические модели ищут слова, которые часто вместе встречаются в документах, и составляют из них темы. Мы попробуем применить эту идею к рецептам и найти кулинарные «темы». Эта коллекция хороша тем, что не требует предобработки. Кроме того, эта задача достаточно наглядно иллюстрирует принцип работы тематических моделей.\n",
    "\n",
    "Для выполнения заданий, помимо часто используемых в курсе библиотек, потребуются модули *json* и *gensim*. Первый входит в дистрибутив Anaconda, второй можно поставить командой \n",
    "\n",
    "*pip install gensim*\n",
    "\n",
    "Построение модели занимает некоторое время. На ноутбуке с процессором Intel Core i7 и тактовой частотой 2400 МГц на построение одной модели уходит менее 10 минут."
   ]
  },
  {
   "cell_type": "markdown",
   "metadata": {},
   "source": [
    "### Загрузка данных"
   ]
  },
  {
   "cell_type": "markdown",
   "metadata": {},
   "source": [
    "Коллекция дана в json-формате: для каждого рецепта известны его id, кухня (cuisine) и список ингредиентов, в него входящих. Загрузить данные можно с помощью модуля json (он входит в дистрибутив Anaconda):"
   ]
  },
  {
   "cell_type": "code",
   "execution_count": 1,
   "metadata": {},
   "outputs": [],
   "source": [
    "import json"
   ]
  },
  {
   "cell_type": "code",
   "execution_count": 2,
   "metadata": {},
   "outputs": [],
   "source": [
    "with open(\"recipes.json\") as f:\n",
    "    recipes = json.load(f)"
   ]
  },
  {
   "cell_type": "code",
   "execution_count": 3,
   "metadata": {},
   "outputs": [
    {
     "name": "stdout",
     "output_type": "stream",
     "text": [
      "{'id': 10259, 'cuisine': 'greek', 'ingredients': ['romaine lettuce', 'black olives', 'grape tomatoes', 'garlic', 'pepper', 'purple onion', 'seasoning', 'garbanzo beans', 'feta cheese crumbles']}\n"
     ]
    }
   ],
   "source": [
    "print(recipes[0])"
   ]
  },
  {
   "cell_type": "markdown",
   "metadata": {},
   "source": [
    "### Составление корпуса"
   ]
  },
  {
   "cell_type": "code",
   "execution_count": 4,
   "metadata": {},
   "outputs": [],
   "source": [
    "from gensim import corpora, models\n",
    "import numpy as np"
   ]
  },
  {
   "cell_type": "markdown",
   "metadata": {},
   "source": [
    "Наша коллекция небольшая, и целиком помещается в оперативную память. Gensim может работать с такими данными и не требует их сохранения на диск в специальном формате. Для этого коллекция должна быть представлена в виде списка списков, каждый внутренний список соответствует отдельному документу и состоит из его слов. Пример коллекции из двух документов: \n",
    "\n",
    "[[\"hello\", \"world\"], [\"programming\", \"in\", \"python\"]]\n",
    "\n",
    "Преобразуем наши данные в такой формат, а затем создадим объекты corpus и dictionary, с которыми будет работать модель."
   ]
  },
  {
   "cell_type": "code",
   "execution_count": 5,
   "metadata": {},
   "outputs": [],
   "source": [
    "texts = [recipe[\"ingredients\"] for recipe in recipes]\n",
    "dictionary = corpora.Dictionary(texts)   # составляем словарь\n",
    "corpus = [dictionary.doc2bow(text) for text in texts]  # составляем корпус документов"
   ]
  },
  {
   "cell_type": "code",
   "execution_count": 6,
   "metadata": {},
   "outputs": [
    {
     "name": "stdout",
     "output_type": "stream",
     "text": [
      "['romaine lettuce', 'black olives', 'grape tomatoes', 'garlic', 'pepper', 'purple onion', 'seasoning', 'garbanzo beans', 'feta cheese crumbles']\n",
      "[(0, 1), (1, 1), (2, 1), (3, 1), (4, 1), (5, 1), (6, 1), (7, 1), (8, 1)]\n"
     ]
    }
   ],
   "source": [
    "print(texts[0])\n",
    "print(corpus[0])"
   ]
  },
  {
   "cell_type": "code",
   "execution_count": 7,
   "metadata": {},
   "outputs": [
    {
     "data": {
      "text/plain": [
       "{'romaine lettuce': 0,\n",
       " 'black olives': 1,\n",
       " 'grape tomatoes': 2,\n",
       " 'garlic': 3,\n",
       " 'pepper': 4,\n",
       " 'purple onion': 5,\n",
       " 'seasoning': 6,\n",
       " 'garbanzo beans': 7,\n",
       " 'feta cheese crumbles': 8,\n",
       " 'plain flour': 9,\n",
       " 'ground pepper': 10,\n",
       " 'salt': 11,\n",
       " 'tomatoes': 12,\n",
       " 'ground black pepper': 13,\n",
       " 'thyme': 14,\n",
       " 'eggs': 15,\n",
       " 'green tomatoes': 16,\n",
       " 'yellow corn meal': 17,\n",
       " 'milk': 18,\n",
       " 'vegetable oil': 19,\n",
       " 'mayonaise': 20,\n",
       " 'cooking oil': 21,\n",
       " 'green chilies': 22,\n",
       " 'grilled chicken breasts': 23,\n",
       " 'garlic powder': 24,\n",
       " 'yellow onion': 25,\n",
       " 'soy sauce': 26,\n",
       " 'butter': 27,\n",
       " 'chicken livers': 28,\n",
       " 'water': 29,\n",
       " 'wheat': 30,\n",
       " 'black pepper': 31,\n",
       " 'shallots': 32,\n",
       " 'cornflour': 33,\n",
       " 'cayenne pepper': 34,\n",
       " 'onions': 35,\n",
       " 'garlic paste': 36,\n",
       " 'lemon juice': 37,\n",
       " 'chili powder': 38,\n",
       " 'passata': 39,\n",
       " 'oil': 40,\n",
       " 'ground cumin': 41,\n",
       " 'boneless chicken skinless thigh': 42,\n",
       " 'garam masala': 43,\n",
       " 'double cream': 44,\n",
       " 'natural yogurt': 45,\n",
       " 'bay leaf': 46,\n",
       " 'sugar': 47,\n",
       " 'fresh ginger root': 48,\n",
       " 'ground cinnamon': 49,\n",
       " 'vanilla extract': 50,\n",
       " 'ground ginger': 51,\n",
       " 'powdered sugar': 52,\n",
       " 'baking powder': 53,\n",
       " 'olive oil': 54,\n",
       " 'medium shrimp': 55,\n",
       " 'chopped cilantro': 56,\n",
       " 'jalapeno chilies': 57,\n",
       " 'flat leaf parsley': 58,\n",
       " 'skirt steak': 59,\n",
       " 'white vinegar': 60,\n",
       " 'sea salt': 61,\n",
       " 'chorizo sausage': 62,\n",
       " 'pistachio nuts': 63,\n",
       " 'white almond bark': 64,\n",
       " 'flour': 65,\n",
       " 'almond extract': 66,\n",
       " 'dried cranberries': 67,\n",
       " 'fresh pineapple': 68,\n",
       " 'pork': 69,\n",
       " 'poblano peppers': 70,\n",
       " 'corn tortillas': 71,\n",
       " 'cheddar cheese': 72,\n",
       " 'iceberg lettuce': 73,\n",
       " 'lime': 74,\n",
       " 'chopped cilantro fresh': 75,\n",
       " 'chopped tomatoes': 76,\n",
       " 'fresh basil': 77,\n",
       " 'extra-virgin olive oil': 78,\n",
       " 'kosher salt': 79,\n",
       " 'pimentos': 80,\n",
       " 'sweet pepper': 81,\n",
       " 'dried oregano': 82,\n",
       " 'sharp cheddar cheese': 83,\n",
       " 'swiss cheese': 84,\n",
       " 'provolone cheese': 85,\n",
       " 'canola oil': 86,\n",
       " 'mushrooms': 87,\n",
       " 'sausages': 88,\n",
       " 'low sodium soy sauce': 89,\n",
       " 'fresh ginger': 90,\n",
       " 'dry mustard': 91,\n",
       " 'green beans': 92,\n",
       " 'white pepper': 93,\n",
       " 'sesame oil': 94,\n",
       " 'scallions': 95,\n",
       " 'Shaoxing wine': 96,\n",
       " 'ground turkey': 97,\n",
       " 'crushed red pepper flakes': 98,\n",
       " 'corn starch': 99,\n",
       " 'Italian parsley leaves': 100,\n",
       " 'walnuts': 101,\n",
       " 'hot red pepper flakes': 102,\n",
       " 'fresh lemon juice': 103,\n",
       " 'trout fillet': 104,\n",
       " 'garlic cloves': 105,\n",
       " 'chipotle chile': 106,\n",
       " 'fine sea salt': 107,\n",
       " 'fresh cilantro': 108,\n",
       " 'ground coriander': 109,\n",
       " 'plum tomatoes': 110,\n",
       " 'avocado': 111,\n",
       " 'lime juice': 112,\n",
       " 'flank steak': 113,\n",
       " 'fresh parmesan cheese': 114,\n",
       " 'all-purpose flour': 115,\n",
       " 'fat free less sodium chicken broth': 116,\n",
       " 'chopped fresh chives': 117,\n",
       " 'gruyere cheese': 118,\n",
       " 'bacon slices': 119,\n",
       " 'gnocchi': 120,\n",
       " 'fat free milk': 121,\n",
       " 'cooking spray': 122,\n",
       " 'tumeric': 123,\n",
       " 'vegetable stock': 124,\n",
       " 'naan': 125,\n",
       " 'red lentils': 126,\n",
       " 'red chili peppers': 127,\n",
       " 'spinach': 128,\n",
       " 'sweet potatoes': 129,\n",
       " 'greek yogurt': 130,\n",
       " 'lemon curd': 131,\n",
       " 'confectioners sugar': 132,\n",
       " 'raspberries': 133,\n",
       " 'italian seasoning': 134,\n",
       " 'broiler-fryer chicken': 135,\n",
       " 'zesty italian dressing': 136,\n",
       " 'hot chili': 137,\n",
       " 'asian fish sauce': 138,\n",
       " 'red bell pepper': 139,\n",
       " 'chicken broth': 140,\n",
       " 'yellow squash': 141,\n",
       " 'garlic chili sauce': 142,\n",
       " 'sliced green onions': 143,\n",
       " 'broccolini': 144,\n",
       " 'fresh lime juice': 145,\n",
       " 'cooked rice': 146,\n",
       " 'chicken breasts': 147,\n",
       " 'pork loin': 148,\n",
       " 'roasted peanuts': 149,\n",
       " 'hoisin sauce': 150,\n",
       " 'creamy peanut butter': 151,\n",
       " 'chopped fresh mint': 152,\n",
       " 'thai basil': 153,\n",
       " 'rice': 154,\n",
       " 'rice noodles': 155,\n",
       " 'beansprouts': 156,\n",
       " 'roma tomatoes': 157,\n",
       " 'low-fat mayonnaise': 158,\n",
       " 'baking potatoes': 159,\n",
       " 'spicy brown mustard': 160,\n",
       " 'sesame seeds': 161,\n",
       " 'red pepper': 162,\n",
       " 'yellow peppers': 163,\n",
       " 'extra firm tofu': 164,\n",
       " 'broccoli': 165,\n",
       " 'orange bell pepper': 166,\n",
       " 'arrowroot powder': 167,\n",
       " 'red curry paste': 168,\n",
       " 'marinara sauce': 169,\n",
       " 'linguine': 170,\n",
       " 'capers': 171,\n",
       " 'olives': 172,\n",
       " 'lemon zest': 173,\n",
       " 'lo mein noodles': 174,\n",
       " 'light soy sauce': 175,\n",
       " 'dried black mushrooms': 176,\n",
       " 'chives': 177,\n",
       " 'oyster sauce': 178,\n",
       " 'dark soy sauce': 179,\n",
       " 'peanuts': 180,\n",
       " 'cabbage': 181,\n",
       " 'herbs': 182,\n",
       " 'fresh tomatoes': 183,\n",
       " 'paprika': 184,\n",
       " 'mango': 185,\n",
       " 'stock': 186,\n",
       " 'chile pepper': 187,\n",
       " 'sliced mushrooms': 188,\n",
       " 'sherry': 189,\n",
       " 'grated parmesan cheese': 190,\n",
       " 'heavy cream': 191,\n",
       " 'spaghetti': 192,\n",
       " 'cooked chicken': 193,\n",
       " 'green bell pepper': 194,\n",
       " 'egg roll wrappers': 195,\n",
       " 'sweet and sour sauce': 196,\n",
       " 'molasses': 197,\n",
       " 'shredded cabbage': 198,\n",
       " 'ground pork': 199,\n",
       " 'carrots': 200,\n",
       " 'flour tortillas': 201,\n",
       " 'cheese': 202,\n",
       " 'breakfast sausages': 203,\n",
       " 'large eggs': 204,\n",
       " 'boiling water': 205,\n",
       " 'hot sauce': 206,\n",
       " 'potatoes': 207,\n",
       " 'bacon': 208,\n",
       " 'fresh parsley': 209,\n",
       " 'andouille sausage': 210,\n",
       " 'cajun seasoning': 211,\n",
       " 'peanut oil': 212,\n",
       " 'celery': 213,\n",
       " 'ground red pepper': 214,\n",
       " 'shrimp': 215,\n",
       " 'onion powder': 216,\n",
       " 'firm tofu': 217,\n",
       " 'turnips': 218,\n",
       " 'palm sugar': 219,\n",
       " 'sliced chicken': 220,\n",
       " 'fish sauce': 221,\n",
       " 'lime wedges': 222,\n",
       " 'green papaya': 223,\n",
       " 'chile powder': 224,\n",
       " 'tamarind paste': 225,\n",
       " 'chinese chives': 226,\n",
       " 'crushed garlic': 227,\n",
       " 'green onions': 228,\n",
       " 'white sugar': 229,\n",
       " 'dried basil': 230,\n",
       " 'diced tomatoes': 231,\n",
       " 'Johnsonville Andouille Dinner Sausage': 232,\n",
       " 'parsley': 233,\n",
       " 'jambalaya rice mix': 234,\n",
       " 'worcestershire sauce': 235,\n",
       " 'hot pepper sauce': 236,\n",
       " 'creole seasoning': 237,\n",
       " 'bread slices': 238,\n",
       " 'great northern beans': 239,\n",
       " 'sage leaves': 240,\n",
       " 'chinese five-spice powder': 241,\n",
       " 'chicken thighs': 242,\n",
       " 'star anise': 243,\n",
       " 'cream cheese': 244,\n",
       " 'shredded cheddar cheese': 245,\n",
       " 'black-eyed peas': 246,\n",
       " 'tortilla chips': 247,\n",
       " 'collard greens': 248,\n",
       " 'ham hock': 249,\n",
       " 'chicken stock': 250,\n",
       " 'apple cider': 251,\n",
       " 'freshly ground pepper': 252,\n",
       " 'bay leaves': 253,\n",
       " 'rib': 254,\n",
       " 'light brown sugar': 255,\n",
       " 'large garlic cloves': 256,\n",
       " 'Oscar Mayer Deli Fresh Smoked Ham': 257,\n",
       " 'hoagie rolls': 258,\n",
       " 'salami': 259,\n",
       " 'giardiniera': 260,\n",
       " 'mozzarella cheese': 261,\n",
       " 'pepperoni': 262,\n",
       " 'ice cubes': 263,\n",
       " 'club soda': 264,\n",
       " 'white rum': 265,\n",
       " 'turbinado': 266,\n",
       " 'enchilada sauce': 267,\n",
       " 'picante sauce': 268,\n",
       " 'green pepper': 269,\n",
       " 'canned black beans': 270,\n",
       " 'shredded lettuce': 271,\n",
       " 'sour cream': 272,\n",
       " 'salmon fillets': 273,\n",
       " 'cumin seed': 274,\n",
       " 'curry powder': 275,\n",
       " 'serrano chile': 276,\n",
       " 'sauce': 277,\n",
       " 'chicken breast halves': 278,\n",
       " 'lettuce leaves': 279,\n",
       " 'chopped onion': 280,\n",
       " 'mandarin oranges': 281,\n",
       " 'orange liqueur': 282,\n",
       " 'yellow cake mix': 283,\n",
       " 'frosting': 284,\n",
       " 'fennel bulb': 285,\n",
       " 'lemon olive oil': 286,\n",
       " 'grapefruit juice': 287,\n",
       " 'white cornmeal': 288,\n",
       " 'bacon drippings': 289,\n",
       " 'buttermilk': 290,\n",
       " 'crab boil': 291,\n",
       " 'old bay seasoning': 292,\n",
       " 'crawfish': 293,\n",
       " 'sirloin': 294,\n",
       " 'mirin': 295,\n",
       " 'corn oil': 296,\n",
       " 'glass noodles': 297,\n",
       " 'sake': 298,\n",
       " 'shiitake': 299,\n",
       " 'napa cabbage': 300,\n",
       " 'whipping cream': 301,\n",
       " 'extra sharp cheddar cheese': 302,\n",
       " 'quickcooking grits': 303,\n",
       " 'monterey jack': 304,\n",
       " 'crushed red pepper': 305,\n",
       " 'mussels': 306,\n",
       " 'basil': 307,\n",
       " 'dry white wine': 308,\n",
       " 'finely chopped onion': 309,\n",
       " 'baking soda': 310,\n",
       " 'honey': 311,\n",
       " 'unsalted butter': 312,\n",
       " 'lemon': 313,\n",
       " 'pesto': 314,\n",
       " 'white wine': 315,\n",
       " 'bread crumbs': 316,\n",
       " 'curry': 317,\n",
       " 'low sodium beef broth': 318,\n",
       " 'pickapeppa sauce': 319,\n",
       " 'cold water': 320,\n",
       " 'allspice': 321,\n",
       " 'fresh thyme': 322,\n",
       " 'ground beef': 323,\n",
       " 'melted butter': 324,\n",
       " 'matcha green tea powder': 325,\n",
       " 'chopped walnuts': 326,\n",
       " 'coarse salt': 327,\n",
       " 'fenugreek': 328,\n",
       " 'urad dal': 329,\n",
       " 'white rice': 330,\n",
       " 'pizza crust': 331,\n",
       " 'part-skim mozzarella cheese': 332,\n",
       " 'yukon gold potatoes': 333,\n",
       " 'low-fat sour cream': 334,\n",
       " 'leeks': 335,\n",
       " '1% low-fat milk': 336,\n",
       " 'lemongrass': 337,\n",
       " 'unsweetened coconut milk': 338,\n",
       " 'peanut sauce': 339,\n",
       " 'spareribs': 340,\n",
       " 'tamari soy sauce': 341,\n",
       " 'golden brown sugar': 342,\n",
       " 'dry sherry': 343,\n",
       " 'chicken legs': 344,\n",
       " 'ghee': 345,\n",
       " 'tomato paste': 346,\n",
       " 'ground turmeric': 347,\n",
       " 'cracked black pepper': 348,\n",
       " 'minced beef': 349,\n",
       " 'dried thyme': 350,\n",
       " 'ginger': 351,\n",
       " 'chillies': 352,\n",
       " 'crushed tomatoes': 353,\n",
       " 'fresh rosemary': 354,\n",
       " 'boneless pork loin': 355,\n",
       " 'pappardelle': 356,\n",
       " 'coconut milk': 357,\n",
       " 'eggplant': 358,\n",
       " 'jasmine rice': 359,\n",
       " 'Gochujang base': 360,\n",
       " 'top round steak': 361,\n",
       " 'rice vinegar': 362,\n",
       " 'Taiwanese bok choy': 363,\n",
       " 'vanilla': 364,\n",
       " 'large egg yolks': 365,\n",
       " 'orange juice concentrate': 366,\n",
       " 'pumpkin purée': 367,\n",
       " 'marshmallow creme': 368,\n",
       " 'toasted pecans': 369,\n",
       " 'maple syrup': 370,\n",
       " 'gingersnap': 371,\n",
       " 'ground nutmeg': 372,\n",
       " 'brown sugar': 373,\n",
       " 'serrano ham': 374,\n",
       " 'manchego cheese': 375,\n",
       " 'dijon mustard': 376,\n",
       " 'sourdough': 377,\n",
       " 'membrillo': 378,\n",
       " 'burger buns': 379,\n",
       " 'panko breadcrumbs': 380,\n",
       " 'chickpea flour': 381,\n",
       " 'Sriracha': 382,\n",
       " 'chickpeas': 383,\n",
       " 'ground flaxseed': 384,\n",
       " 'greens': 385,\n",
       " 'tahini': 386,\n",
       " 'ground cloves': 387,\n",
       " 'whole nutmegs': 388,\n",
       " 'ground cardamom': 389,\n",
       " 'Italian bread': 390,\n",
       " 'balsamic vinegar': 391,\n",
       " 'sausage casings': 392,\n",
       " 'shredded mozzarella cheese': 393,\n",
       " 'roasted red peppers': 394,\n",
       " 'penne pasta': 395,\n",
       " 'saffron': 396,\n",
       " 'warm water': 397,\n",
       " 'preserved lemon': 398,\n",
       " 'harissa': 399,\n",
       " 'couscous': 400,\n",
       " 'cayenne': 401,\n",
       " 'fat skimmed chicken broth': 402,\n",
       " 'pitted kalamata olives': 403,\n",
       " 'fat': 404,\n",
       " 'sweetened condensed milk': 405,\n",
       " 'ice': 406,\n",
       " 'espresso': 407,\n",
       " 'fresh asparagus': 408,\n",
       " 'pecans': 409,\n",
       " 'crumbled blue cheese': 410,\n",
       " 'chuck': 411,\n",
       " 'hamburger buns': 412,\n",
       " 'okra pods': 413,\n",
       " 'watercress': 414,\n",
       " 'self rising flour': 415,\n",
       " 'softened butter': 416,\n",
       " 'food colouring': 417,\n",
       " 'Madeira': 418,\n",
       " 'foie gras': 419,\n",
       " 'demi-glace': 420,\n",
       " 'sherry vinegar': 421,\n",
       " 'white bread': 422,\n",
       " 'Fuyu persimmons': 423,\n",
       " 'egg bread': 424,\n",
       " 'fenugreek leaves': 425,\n",
       " 'black mustard seeds': 426,\n",
       " 'amchur': 427,\n",
       " 'coriander': 428,\n",
       " 'fingerling potatoes': 429,\n",
       " 'ramps': 430,\n",
       " 'black peppercorns': 431,\n",
       " 'cinnamon sticks': 432,\n",
       " 'cardamom pods': 433,\n",
       " 'coriander seeds': 434,\n",
       " 'asiago': 435,\n",
       " 'whole wheat pasta': 436,\n",
       " 'sweet onion': 437,\n",
       " 'chestnuts': 438,\n",
       " 'granulated sugar': 439,\n",
       " 'whole milk ricotta cheese': 440,\n",
       " 'coffee ice cream': 441,\n",
       " 'mascarpone': 442,\n",
       " 'rum': 443,\n",
       " 'semisweet chocolate': 444,\n",
       " 'chestnut flour': 445,\n",
       " 'baby spinach leaves': 446,\n",
       " 'chopped garlic': 447,\n",
       " 'large shrimp': 448,\n",
       " 'barley': 449,\n",
       " 'cooked ham': 450,\n",
       " 'starchy potatoes': 451,\n",
       " 'grated nutmeg': 452,\n",
       " 'sirloin tip roast': 453,\n",
       " 'steak': 454,\n",
       " 'vegetable shortening': 455,\n",
       " 'finely chopped fresh parsley': 456,\n",
       " 'vinegar': 457,\n",
       " 'caul fat': 458,\n",
       " 'whole milk': 459,\n",
       " 'heavy whipping cream': 460,\n",
       " 'kahlúa': 461,\n",
       " 'instant espresso powder': 462,\n",
       " 'epazote': 463,\n",
       " 'radishes': 464,\n",
       " 'oregano': 465,\n",
       " 'white onion': 466,\n",
       " 'hominy': 467,\n",
       " 'tomatillos': 468,\n",
       " 'pepitas': 469,\n",
       " 'catfish fillets': 470,\n",
       " 'basmati rice': 471,\n",
       " 'cauliflower': 472,\n",
       " 'cumin': 473,\n",
       " 'blood orange': 474,\n",
       " 'low salt chicken broth': 475,\n",
       " 'white wine vinegar': 476,\n",
       " 'tomato sauce': 477,\n",
       " 'shredded carrots': 478,\n",
       " 'english muffins, split and toasted': 479,\n",
       " 'vegetable oil cooking spray': 480,\n",
       " 'chopped green bell pepper': 481,\n",
       " 'prawns': 482,\n",
       " 'rice flour': 483,\n",
       " 'seasoning salt': 484,\n",
       " 'lasagna noodles': 485,\n",
       " 'ranch dressing': 486,\n",
       " 'evaporated milk': 487,\n",
       " 'minced garlic': 488,\n",
       " 'red wine vinegar': 489,\n",
       " 'boneless chop pork': 490,\n",
       " 'chile paste': 491,\n",
       " 'lower sodium soy sauce': 492,\n",
       " 'dark sesame oil': 493,\n",
       " 'raisins': 494,\n",
       " 'pearl barley': 495,\n",
       " 'slivered almonds': 496,\n",
       " 'chocolate bars': 497,\n",
       " 'marshmallows': 498,\n",
       " 'cinnamon graham crackers': 499,\n",
       " 'chopped celery': 500,\n",
       " 'mustard powder': 501,\n",
       " 'cod': 502,\n",
       " 'minced onion': 503,\n",
       " 'dry bread crumbs': 504,\n",
       " 'golden raisins': 505,\n",
       " 'margarine': 506,\n",
       " 'mace': 507,\n",
       " 'brewed tea': 508,\n",
       " 'candied orange peel': 509,\n",
       " 'grated lemon zest': 510,\n",
       " 'dried currants': 511,\n",
       " 'rum extract': 512,\n",
       " 'dark brown sugar': 513,\n",
       " 'noodles': 514,\n",
       " 'baby bok choy': 515,\n",
       " 'black bean sauce': 516,\n",
       " 'red potato': 517,\n",
       " 'chinese rice wine': 518,\n",
       " 'black beans': 519,\n",
       " 'quinoa': 520,\n",
       " 'frozen corn': 521,\n",
       " 'vegetable broth': 522,\n",
       " 'yellow bell pepper': 523,\n",
       " 'orange': 524,\n",
       " 'duck': 525,\n",
       " 'dried mint flakes': 526,\n",
       " 'penne rigate': 527,\n",
       " 'feta cheese': 528,\n",
       " 'ras el hanout': 529,\n",
       " 'ground lamb': 530,\n",
       " 'large egg whites': 531,\n",
       " '2% reduced-fat milk': 532,\n",
       " 'napa cabbage leaves': 533,\n",
       " 'chicken leg quarters': 534,\n",
       " 'cucumber': 535,\n",
       " 'long-grain rice': 536,\n",
       " 'crusty bread': 537,\n",
       " 'baby potatoes': 538,\n",
       " 'smoked streaky bacon': 539,\n",
       " 'piloncillo': 540,\n",
       " 'ground allspice': 541,\n",
       " 'hibiscus': 542,\n",
       " 'fresh oregano': 543,\n",
       " 'chocolate morsels': 544,\n",
       " 'cream sweeten whip': 545,\n",
       " 'instant espresso granules': 546,\n",
       " 'chocolate covered coffee beans': 547,\n",
       " 'unflavored gelatin': 548,\n",
       " 'pound cake': 549,\n",
       " 'pinenuts': 550,\n",
       " 'zucchini': 551,\n",
       " 'baby carrots': 552,\n",
       " 'fresh basil leaves': 553,\n",
       " 'asparagus spears': 554,\n",
       " 'frozen peas': 555,\n",
       " 'arborio rice': 556,\n",
       " 'yellow crookneck squash': 557,\n",
       " 'chipotles in adobo': 558,\n",
       " 'instant white rice': 559,\n",
       " 'cilantro leaves': 560,\n",
       " 'red beans': 561,\n",
       " 'skinless chicken thighs': 562,\n",
       " 'lime zest': 563,\n",
       " 'condensed cream of mushroom soup': 564,\n",
       " 'condensed cream of chicken soup': 565,\n",
       " 'lean ground beef': 566,\n",
       " 'Mexican cheese blend': 567,\n",
       " 'chunky salsa': 568,\n",
       " 'taco seasoning mix': 569,\n",
       " 'chorizo spanish': 570,\n",
       " 'pineapple juice': 571,\n",
       " 'dark rum': 572,\n",
       " 'daikon': 573,\n",
       " 'pork ribs': 574,\n",
       " 'goji berries': 575,\n",
       " 'oysters': 576,\n",
       " 'salsa': 577,\n",
       " 'demerara sugar': 578,\n",
       " 'egg whites': 579,\n",
       " 'fruit': 580,\n",
       " 'frozen pastry puff sheets': 581,\n",
       " 'mixed spice': 582,\n",
       " 'parsnips': 583,\n",
       " 'chili oil': 584,\n",
       " 'brown mustard seeds': 585,\n",
       " 'unsalted cashews': 586,\n",
       " 'thai green curry paste': 587,\n",
       " 'kecap manis': 588,\n",
       " 'frozen broad beans': 589,\n",
       " 'basil leaves': 590,\n",
       " 'chili flakes': 591,\n",
       " 'chicken tenderloin': 592,\n",
       " 'creole style seasoning': 593,\n",
       " 'condensed cheddar cheese soup': 594,\n",
       " 'refried beans': 595,\n",
       " 'grated jack cheese': 596,\n",
       " 'egg yolks': 597,\n",
       " 'asparagus': 598,\n",
       " 'fresh leav spinach': 599,\n",
       " 'cheese tortellini': 600,\n",
       " 'cherry tomatoes': 601,\n",
       " 'navy beans': 602,\n",
       " 'nonfat milk': 603,\n",
       " 'granny smith apples': 604,\n",
       " 'lard': 605,\n",
       " 'pecorino romano cheese': 606,\n",
       " 'fresh fava bean': 607,\n",
       " 'italian sausage': 608,\n",
       " 'pasta sheets': 609,\n",
       " 'spinach leaves': 610,\n",
       " 'low-fat natural yogurt': 611,\n",
       " 'Flora Cuisine': 612,\n",
       " 'curry paste': 613,\n",
       " 'bone-in chicken breasts': 614,\n",
       " 'white hominy': 615,\n",
       " 'dried chile peppers': 616,\n",
       " 'frozen whipped topping': 617,\n",
       " 'chocolate instant pudding': 618,\n",
       " 'instant butterscotch pudding mix': 619,\n",
       " 'graham cracker crumbs': 620,\n",
       " 'fennel seeds': 621,\n",
       " 'kalamata': 622,\n",
       " 'kielbasa': 623,\n",
       " 'celery ribs': 624,\n",
       " 'ham': 625,\n",
       " 'moong dal': 626,\n",
       " 'capsicum': 627,\n",
       " 'green mango': 628,\n",
       " 'toasted sesame oil': 629,\n",
       " 'tofu': 630,\n",
       " 'short-grain rice': 631,\n",
       " 'dried shiitake mushrooms': 632,\n",
       " 'gari': 633,\n",
       " 'Turkish bay leaves': 634,\n",
       " 'dried chickpeas': 635,\n",
       " 'semolina': 636,\n",
       " 'vine ripened tomatoes': 637,\n",
       " 'bittersweet chocolate': 638,\n",
       " 'fat free yogurt': 639,\n",
       " 'skim milk': 640,\n",
       " 'angel food cake': 641,\n",
       " 'unsweetened cocoa powder': 642,\n",
       " 'instant espresso': 643,\n",
       " 'organic chicken': 644,\n",
       " 'anise': 645,\n",
       " 'zinfandel': 646,\n",
       " 'orange blossom honey': 647,\n",
       " 'calimyrna figs': 648,\n",
       " 'clove': 649,\n",
       " 'plain whole-milk yogurt': 650,\n",
       " 'reduced sodium soy sauce': 651,\n",
       " 'beef stock': 652,\n",
       " 'chuck roast': 653,\n",
       " 'Corn Flakes Cereal': 654,\n",
       " 'coleslaw': 655,\n",
       " 'garlic salt': 656,\n",
       " 'chili paste': 657,\n",
       " 'red pepper flakes': 658,\n",
       " 'kiwi': 659,\n",
       " 'asian pear': 660,\n",
       " 'chees fresco queso': 661,\n",
       " 'swiss chard': 662,\n",
       " 'veal cutlets': 663,\n",
       " 'pasta': 664,\n",
       " 'wakame': 665,\n",
       " 'extra-lean ground beef': 666,\n",
       " 'scallion greens': 667,\n",
       " 'wonton wrappers': 668,\n",
       " 'peeled fresh ginger': 669,\n",
       " 'nonstick spray': 670,\n",
       " 'chopped fresh thyme': 671,\n",
       " 'chicken bones': 672,\n",
       " 'green bell pepper, slice': 673,\n",
       " 'anchovy fillets': 674,\n",
       " 'crusty rolls': 675,\n",
       " 'coconut oil': 676,\n",
       " 'almond flour': 677,\n",
       " 'coconut aminos': 678,\n",
       " 'green peas': 679,\n",
       " 'clams': 680,\n",
       " 'boneless skinless chicken breast halves': 681,\n",
       " 'seasoned rice wine vinegar': 682,\n",
       " 'snow peas': 683,\n",
       " 'hard-boiled egg': 684,\n",
       " 'artichoke hearts': 685,\n",
       " 'stuffing': 686,\n",
       " 'coriander powder': 687,\n",
       " 'maida flour': 688,\n",
       " 'pita bread rounds': 689,\n",
       " 'grated Gruyère cheese': 690,\n",
       " 'udon': 691,\n",
       " 'red miso': 692,\n",
       " 'silken tofu': 693,\n",
       " 'button mushrooms': 694,\n",
       " 'whole peeled tomatoes': 695,\n",
       " 'shredded Monterey Jack cheese': 696,\n",
       " 'pickled jalapenos': 697,\n",
       " 'broccoli rabe': 698,\n",
       " 'parmigiano reggiano cheese': 699,\n",
       " 'fontina': 700,\n",
       " 'thai chile': 701,\n",
       " 'peppercorns': 702,\n",
       " 'refrigerated piecrusts': 703,\n",
       " 'cream of chicken soup': 704,\n",
       " 'frozen peas and carrots': 705,\n",
       " 'low sodium chicken broth': 706,\n",
       " 'pasta sauce': 707,\n",
       " 'olive oil flavored cooking spray': 708,\n",
       " 'frozen chopped spinach': 709,\n",
       " 'part-skim ricotta cheese': 710,\n",
       " 'manicotti shells': 711,\n",
       " 'fettucine': 712,\n",
       " 'parmesan cheese': 713,\n",
       " 'chicken bouillon': 714,\n",
       " 'chili paste with garlic': 715,\n",
       " 'fresh veget': 716,\n",
       " 'taco sauce': 717,\n",
       " 'guacamole': 718,\n",
       " 'salsa verde': 719,\n",
       " 'condiments': 720,\n",
       " 'pork shoulder roast': 721,\n",
       " 'tortillas': 722,\n",
       " 'rose petals': 723,\n",
       " 'almonds': 724,\n",
       " 'pistachios': 725,\n",
       " 'chicken wings': 726,\n",
       " 'drumstick': 727,\n",
       " 'green chile': 728,\n",
       " 'peeled tomatoes': 729,\n",
       " 'chicken': 730,\n",
       " 'chiles': 731,\n",
       " 'adobo sauce': 732,\n",
       " 'ancho powder': 733,\n",
       " 'chipotle chile powder': 734,\n",
       " 'Old El Paso Flour Tortillas': 735,\n",
       " 'cranberry sauce': 736,\n",
       " 'beer': 737,\n",
       " 'chili sauce': 738,\n",
       " 'beef rib short': 739,\n",
       " 'miso paste': 740,\n",
       " 'seaweed': 741,\n",
       " 'dashi': 742,\n",
       " 'fresh dill': 743,\n",
       " 'yoghurt': 744,\n",
       " 'myzithra': 745,\n",
       " 'phyllo': 746,\n",
       " 'kefalotyri': 747,\n",
       " 'okra': 748,\n",
       " 'cracker crumbs': 749,\n",
       " 'Philadelphia Cream Cheese': 750,\n",
       " 'crab meat': 751,\n",
       " 'savoy cabbage': 752,\n",
       " 'boneless chicken thighs': 753,\n",
       " 'potato starch': 754,\n",
       " 'cream of tartar': 755,\n",
       " 'semi-sweet chocolate morsels': 756,\n",
       " 'cake flour': 757,\n",
       " 'ricotta cheese': 758,\n",
       " 'serrano': 759,\n",
       " 'steel-cut oats': 760,\n",
       " 'hazelnuts': 761,\n",
       " 'hazelnut oil': 762,\n",
       " 'sweet cherries': 763,\n",
       " 'fire roasted diced tomatoes': 764,\n",
       " 'red kidnei beans, rins and drain': 765,\n",
       " 'wasabi paste': 766,\n",
       " 'black sesame seeds': 767,\n",
       " 'Japanese soy sauce': 768,\n",
       " 'fresh salmon': 769,\n",
       " 'dried porcini mushrooms': 770,\n",
       " 'dry red wine': 771,\n",
       " 'hot water': 772,\n",
       " 'fat free less sodium beef broth': 773,\n",
       " 'cremini mushrooms': 774,\n",
       " 'creole mustard': 775,\n",
       " 'prepared horseradish': 776,\n",
       " 'celery salt': 777,\n",
       " 'shrimp and crab boil seasoning': 778,\n",
       " 'turnip greens': 779,\n",
       " 'butternut squash': 780,\n",
       " 'apples': 781,\n",
       " 'country ham': 782,\n",
       " 'frozen edamame beans': 783,\n",
       " 'whole kernel corn, drain': 784,\n",
       " 'strong white bread flour': 785,\n",
       " 'salted butter': 786,\n",
       " 'sunflower oil': 787,\n",
       " 'kalonji': 788,\n",
       " 'instant yeast': 789,\n",
       " 'fresh coriander': 790,\n",
       " 'cooked white rice': 791,\n",
       " 'mixed mushrooms': 792,\n",
       " 'wood ear mushrooms': 793,\n",
       " 'vegetables': 794,\n",
       " 'taco seasoning': 795,\n",
       " 'bell pepper': 796,\n",
       " 'boneless skinless chicken breasts': 797,\n",
       " 'shredded cheese': 798,\n",
       " 'eau de vie': 799,\n",
       " 'leaves': 800,\n",
       " 'cane sugar': 801,\n",
       " 'baking apples': 802,\n",
       " 'salt and ground black pepper': 803,\n",
       " 'sliced black olives': 804,\n",
       " 'chopped green chilies': 805,\n",
       " 'rosemary leaves': 806,\n",
       " 'lean steak': 807,\n",
       " 'Guinness Lager': 808,\n",
       " 'dried rosemary': 809,\n",
       " 'water chestnuts, drained and chopped': 810,\n",
       " 'chinese cabbage': 811,\n",
       " 'dipping sauces': 812,\n",
       " 'lean ground pork': 813,\n",
       " 'pico de gallo': 814,\n",
       " 'cheese slices': 815,\n",
       " 'chorizo': 816,\n",
       " 'french bread': 817,\n",
       " 'dried dillweed': 818,\n",
       " 'red wine': 819,\n",
       " 'lamb': 820,\n",
       " 'plain yogurt': 821,\n",
       " 'kale': 822,\n",
       " 'Mexican beer': 823,\n",
       " 'boneless beef short ribs': 824,\n",
       " 'guajillo': 825,\n",
       " 'saffron threads': 826,\n",
       " 'fresh spinach': 827,\n",
       " 'banana squash': 828,\n",
       " 'cannellini beans': 829,\n",
       " 'shortening': 830,\n",
       " 'Franks Hot Sauce': 831,\n",
       " 'pears': 832,\n",
       " 'light pancake syrup': 833,\n",
       " 'puff pastry': 834,\n",
       " 'apple cider vinegar': 835,\n",
       " 'mushroom powder': 836,\n",
       " 'bone in chicken thighs': 837,\n",
       " 'fresh bay leaves': 838,\n",
       " 'cilantro': 839,\n",
       " 'skinless chicken breasts': 840,\n",
       " 'light sour cream': 841,\n",
       " 'fava beans': 842,\n",
       " 'fresh tarragon': 843,\n",
       " 'kidney beans': 844,\n",
       " 'orzo pasta': 845,\n",
       " 'dri leav thyme': 846,\n",
       " 'wasabi': 847,\n",
       " 'jumbo shrimp': 848,\n",
       " 'sticky rice': 849,\n",
       " 'white sesame seeds': 850,\n",
       " 'chopped almonds': 851,\n",
       " 'baby arugula': 852,\n",
       " 'tequila': 853,\n",
       " 'margarita mix': 854,\n",
       " 'crust': 855,\n",
       " 'grits': 856,\n",
       " 'pecan halves': 857,\n",
       " 'corn syrup': 858,\n",
       " 'superfine sugar': 859,\n",
       " 'blackberries': 860,\n",
       " 'whiskey': 861,\n",
       " 'luke warm water': 862,\n",
       " 'active dry yeast': 863,\n",
       " 'fresh mint': 864,\n",
       " 'jamaican jerk season': 865,\n",
       " 'pineapple preserves': 866,\n",
       " 'chicken drumsticks': 867,\n",
       " 'pitas': 868,\n",
       " 'goat cheese': 869,\n",
       " 'gingerroot': 870,\n",
       " 'rib eye steaks': 871,\n",
       " 'hot bean paste': 872,\n",
       " 'medjool date': 873,\n",
       " 'diced bell pepper': 874,\n",
       " 'cream': 875,\n",
       " 'smoked paprika': 876,\n",
       " 'reduced fat milk': 877,\n",
       " 'smoked trout': 878,\n",
       " 'garlic puree': 879,\n",
       " 'green cardamom pods': 880,\n",
       " 'tomato purée': 881,\n",
       " 'pickled jalapeno peppers': 882,\n",
       " 'romaine lettuce leaves': 883,\n",
       " 'crema mexicana': 884,\n",
       " 'chile sauce': 885,\n",
       " 'queso fresco': 886,\n",
       " 'Boston lettuce': 887,\n",
       " 'persian cucumber': 888,\n",
       " 'peanut butter': 889,\n",
       " 'rice paper': 890,\n",
       " 'Korean chile flakes': 891,\n",
       " 'red chile powder': 892,\n",
       " 'boneless chicken breast': 893,\n",
       " 'cashew nuts': 894,\n",
       " 'kashmiri chile': 895,\n",
       " 'kasuri methi': 896,\n",
       " 'mustard oil': 897,\n",
       " 'ginger paste': 898,\n",
       " 'cinnamon': 899,\n",
       " 'tomato ketchup': 900,\n",
       " 'pecan pie': 901,\n",
       " 'tostada shells': 902,\n",
       " 'grouper': 903,\n",
       " 'corn kernels': 904,\n",
       " 'ricotta salata': 905,\n",
       " 'pecorino cheese': 906,\n",
       " 'grana padano': 907,\n",
       " 'kaffir lime leaves': 908,\n",
       " 'corn': 909,\n",
       " 'soba noodles': 910,\n",
       " 'galangal': 911,\n",
       " 'green curry paste': 912,\n",
       " 'bamboo shoots': 913,\n",
       " 'chopped nuts': 914,\n",
       " 'bourbon whiskey': 915,\n",
       " 'ketchup': 916,\n",
       " 'rhubarb': 917,\n",
       " 'liquid': 918,\n",
       " 'store bought low sodium chicken stock': 919,\n",
       " 'safflower oil': 920,\n",
       " 'jeera': 921,\n",
       " 'cardamom': 922,\n",
       " 'crema': 923,\n",
       " 'salmon steaks': 924,\n",
       " 'jam': 925,\n",
       " 'karashi': 926,\n",
       " 'spring onions': 927,\n",
       " 'free range egg': 928,\n",
       " 'jicama': 929,\n",
       " 'water chestnuts': 930,\n",
       " 'diced celery': 931,\n",
       " 'shredded sharp cheddar cheese': 932,\n",
       " 'dinner rolls': 933,\n",
       " 'cactus pad': 934,\n",
       " 'fenugreek seeds': 935,\n",
       " 'cauliflower flowerets': 936,\n",
       " 'boiling potatoes': 937,\n",
       " 'baby spinach': 938,\n",
       " 'tuna steaks': 939,\n",
       " 'spices': 940,\n",
       " 'octopuses': 941,\n",
       " 'vidalia onion': 942,\n",
       " 'smoked gouda': 943,\n",
       " 'small red potato': 944,\n",
       " 'tuna': 945,\n",
       " 'fat-free refried beans': 946,\n",
       " 'low-fat milk': 947,\n",
       " 'fresh lime': 948,\n",
       " 'ground white pepper': 949,\n",
       " 'Bertolli® Classico Olive Oil': 950,\n",
       " 'bacon, crisp-cooked and crumbled': 951,\n",
       " 'bertolli vineyard premium collect marinara with burgundi wine sauc': 952,\n",
       " 'bread crumb fresh': 953,\n",
       " 'margarita salt': 954,\n",
       " '(    oz.) tomato sauce': 955,\n",
       " 'ground veal': 956,\n",
       " 'italian seasoning mix': 957,\n",
       " 'beef': 958,\n",
       " 'solid pack pumpkin': 959,\n",
       " 'fresh thyme leaves': 960,\n",
       " 'whole grain thin spaghetti': 961,\n",
       " 'grapeseed oil': 962,\n",
       " 'organic sugar': 963,\n",
       " 'dried cherry': 964,\n",
       " 'straw mushrooms': 965,\n",
       " 'vidalia': 966,\n",
       " 'haricots verts': 967,\n",
       " 'wax beans': 968,\n",
       " 'prosciutto': 969,\n",
       " 'romano cheese': 970,\n",
       " 'cooked shrimp': 971,\n",
       " 'crabmeat': 972,\n",
       " 'strawberries': 973,\n",
       " 'green peppercorns': 974,\n",
       " 'pork loin chops': 975,\n",
       " 'chipotle peppers': 976,\n",
       " 'blueberri preserv': 977,\n",
       " 'filet': 978,\n",
       " 'thyme leaves': 979,\n",
       " 'coffee beans': 980,\n",
       " 'vegan margarine': 981,\n",
       " 'pork shoulder': 982,\n",
       " 'parsley leaves': 983,\n",
       " 'fresh raspberries': 984,\n",
       " 'frozen whole kernel corn': 985,\n",
       " 'wish bone guacamol ranch dress': 986,\n",
       " 'torn romain lettuc leav': 987,\n",
       " 'russet potatoes': 988,\n",
       " 'mexican chorizo': 989,\n",
       " 'colby cheese': 990,\n",
       " 'half & half': 991,\n",
       " 'dry vermouth': 992,\n",
       " 'canned low sodium chicken broth': 993,\n",
       " 'roasted salted cashews': 994,\n",
       " 'fresh lemon': 995,\n",
       " 'toasted sesame seeds': 996,\n",
       " 'paneer cheese': 997,\n",
       " 'lemon grass': 998,\n",
       " 'Thai fish sauce': 999,\n",
       " ...}"
      ]
     },
     "execution_count": 7,
     "metadata": {},
     "output_type": "execute_result"
    }
   ],
   "source": [
    "dictionary.token2id"
   ]
  },
  {
   "cell_type": "markdown",
   "metadata": {},
   "source": [
    "У объекта dictionary есть полезная переменная dictionary.token2id, позволяющая находить соответствие между ингредиентами и их индексами."
   ]
  },
  {
   "cell_type": "markdown",
   "metadata": {},
   "source": [
    "### Обучение модели\n",
    "Вам может понадобиться [документация](https://radimrehurek.com/gensim/models/ldamodel.html) LDA в gensim."
   ]
  },
  {
   "cell_type": "markdown",
   "metadata": {},
   "source": [
    "__Задание 1.__ Обучите модель LDA с 40 темами, установив количество проходов по коллекции 5 и оставив остальные параметры по умолчанию. \n",
    "\n",
    "\n",
    "Затем вызовите метод модели *show_topics*, указав количество тем 40 и количество токенов 10, и сохраните результат (топы ингредиентов в темах) в отдельную переменную. Если при вызове метода *show_topics* указать параметр *formatted=True*, то топы ингредиентов будет удобно выводить на печать, если *formatted=False*, будет удобно работать со списком программно. Выведите топы на печать, рассмотрите темы, а затем ответьте на вопрос:\n",
    "\n",
    "Сколько раз ингредиенты \"salt\", \"sugar\", \"water\", \"mushrooms\", \"chicken\", \"eggs\" встретились среди топов-10 всех 40 тем? При ответе __не нужно__ учитывать составные ингредиенты, например, \"hot water\".\n",
    "\n",
    "Передайте 6 чисел в функцию save_answers1 и загрузите сгенерированный файл в форму.\n",
    "\n",
    "У gensim нет возможности фиксировать случайное приближение через параметры метода, но библиотека использует numpy для инициализации матриц. Поэтому, по утверждению автора библиотеки, фиксировать случайное приближение нужно командой, которая написана в следующей ячейке. __Перед строкой кода с построением модели обязательно вставляйте указанную строку фиксации random.seed.__"
   ]
  },
  {
   "cell_type": "code",
   "execution_count": 8,
   "metadata": {},
   "outputs": [
    {
     "name": "stdout",
     "output_type": "stream",
     "text": [
      "CPU times: user 1min 23s, sys: 0 ns, total: 1min 23s\n",
      "Wall time: 1min 23s\n"
     ]
    }
   ],
   "source": [
    "np.random.seed(76543)\n",
    "# здесь код для построения модели:\n",
    "%time ldamodel = models.ldamodel.LdaModel(corpus, id2word=dictionary, num_topics=40, passes=5)"
   ]
  },
  {
   "cell_type": "code",
   "execution_count": 9,
   "metadata": {},
   "outputs": [
    {
     "name": "stdout",
     "output_type": "stream",
     "text": [
      "0.120*\"extra-virgin olive oil\" + 0.083*\"fresh lemon juice\" + 0.053*\"flat leaf parsley\" + 0.052*\"garlic cloves\" + 0.039*\"ground black pepper\" + 0.037*\"capers\" + 0.036*\"shallots\" + 0.034*\"salt\" + 0.031*\"dijon mustard\" + 0.028*\"kosher salt\"\n"
     ]
    }
   ],
   "source": [
    "tops = ldamodel.show_topics(num_topics=40, num_words=10)\n",
    "print(tops[5][1])"
   ]
  },
  {
   "cell_type": "code",
   "execution_count": 10,
   "metadata": {},
   "outputs": [
    {
     "data": {
      "text/plain": [
       "{'salt': 0, 'sugar': 0, 'water': 0, 'mushrooms': 0, 'chicken': 0, 'eggs': 0}"
      ]
     },
     "execution_count": 10,
     "metadata": {},
     "output_type": "execute_result"
    }
   ],
   "source": [
    "common_ingridients = {\"salt\" : 0, \"sugar\" : 0, \"water\" : 0, \"mushrooms\" : 0, \"chicken\" : 0, \"eggs\" : 0}\n",
    "\n",
    "for ingridient in common_ingridients.keys():\n",
    "    ingridient_id = dictionary.token2id[ingridient]\n",
    "    for topic in tops:\n",
    "        if topic[1].find('\"' + str(ingridient_id) + '\"') != -1:\n",
    "            common_ingridients[ingridient] += 1\n",
    "\n",
    "common_ingridients"
   ]
  },
  {
   "cell_type": "code",
   "execution_count": 11,
   "metadata": {},
   "outputs": [],
   "source": [
    "def save_answers1(c_salt, c_sugar, c_water, c_mushrooms, c_chicken, c_eggs):\n",
    "    with open(\"cooking_LDA_pa_task1.txt\", \"w\") as fout:\n",
    "        fout.write(\" \".join([str(el) for el in [c_salt, c_sugar, c_water, c_mushrooms, c_chicken, c_eggs]]))"
   ]
  },
  {
   "cell_type": "code",
   "execution_count": 12,
   "metadata": {},
   "outputs": [],
   "source": [
    "save_answers1(*common_ingridients.values())"
   ]
  },
  {
   "cell_type": "markdown",
   "metadata": {},
   "source": [
    "### Фильтрация словаря\n",
    "В топах тем гораздо чаще встречаются первые три рассмотренных ингредиента, чем последние три. При этом наличие в рецепте курицы, яиц и грибов яснее дает понять, что мы будем готовить, чем наличие соли, сахара и воды. Таким образом, даже в рецептах есть слова, часто встречающиеся в текстах и не несущие смысловой нагрузки, и поэтому их не желательно видеть в темах. Наиболее простой прием борьбы с такими фоновыми элементами — фильтрация словаря по частоте. Обычно словарь фильтруют с двух сторон: убирают очень редкие слова (в целях экономии памяти) и очень частые слова (в целях повышения интерпретируемости тем). Мы уберем только частые слова."
   ]
  },
  {
   "cell_type": "code",
   "execution_count": 13,
   "metadata": {},
   "outputs": [],
   "source": [
    "import copy\n",
    "dictionary2 = copy.deepcopy(dictionary)"
   ]
  },
  {
   "cell_type": "markdown",
   "metadata": {},
   "source": [
    "__Задание 2.__ У объекта dictionary2 есть переменная *dfs* — это словарь, ключами которого являются id токена, а элементами — число раз, сколько слово встретилось во всей коллекции. Сохраните в отдельный список ингредиенты, которые встретились в коллекции больше 4000 раз. Вызовите метод словаря *filter_tokens*, подав в качестве первого аргумента полученный список популярных ингредиентов. Вычислите две величины: dict_size_before и dict_size_after — размер словаря до и после фильтрации.\n",
    "\n",
    "Затем, используя новый словарь, создайте новый корпус документов, corpus2, по аналогии с тем, как это сделано в начале ноутбука. Вычислите две величины: corpus_size_before и corpus_size_after — суммарное количество ингредиентов в корпусе (для каждого документа вычислите число различных ингредиентов в нем и просуммируйте по всем документам) до и после фильтрации.\n",
    "\n",
    "Передайте величины dict_size_before, dict_size_after, corpus_size_before, corpus_size_after в функцию save_answers2 и загрузите сгенерированный файл в форму."
   ]
  },
  {
   "cell_type": "code",
   "execution_count": 14,
   "metadata": {},
   "outputs": [],
   "source": [
    "popular_ingridients = [id for id in dictionary2.dfs.keys() if dictionary2.dfs[id] > 4000]\n",
    "dictionary2.filter_tokens(bad_ids=popular_ingridients)"
   ]
  },
  {
   "cell_type": "code",
   "execution_count": 15,
   "metadata": {},
   "outputs": [],
   "source": [
    "dict_size_before = len(dictionary)\n",
    "dict_size_after = len(dictionary2)"
   ]
  },
  {
   "cell_type": "code",
   "execution_count": 16,
   "metadata": {},
   "outputs": [],
   "source": [
    "corpus2 = [dictionary2.doc2bow(text) for text in texts]"
   ]
  },
  {
   "cell_type": "code",
   "execution_count": 17,
   "metadata": {},
   "outputs": [],
   "source": [
    "corpus_size_before = sum([len(doc) for doc in corpus])\n",
    "corpus_size_after = sum([len(doc) for doc in corpus2])"
   ]
  },
  {
   "cell_type": "code",
   "execution_count": 18,
   "metadata": {},
   "outputs": [],
   "source": [
    "def save_answers2(dict_size_before, dict_size_after, corpus_size_before, corpus_size_after):\n",
    "    with open(\"cooking_LDA_pa_task2.txt\", \"w\") as fout:\n",
    "        fout.write(\" \".join([str(el) for el in [dict_size_before, dict_size_after, corpus_size_before, corpus_size_after]]))"
   ]
  },
  {
   "cell_type": "code",
   "execution_count": 19,
   "metadata": {},
   "outputs": [],
   "source": [
    "save_answers2(dict_size_before, dict_size_after, corpus_size_before, corpus_size_after)"
   ]
  },
  {
   "cell_type": "markdown",
   "metadata": {},
   "source": [
    "### Сравнение когерентностей\n",
    "__Задание 3.__ Постройте еще одну модель по корпусу corpus2 и словарю dictionary2, остальные параметры оставьте такими же, как при первом построении модели. Сохраните новую модель в другую переменную (не перезаписывайте предыдущую модель). Не забудьте про фиксирование seed!\n",
    "\n",
    "Затем воспользуйтесь методом *top_topics* модели, чтобы вычислить ее когерентность. Передайте в качестве аргумента соответствующий модели корпус. Метод вернет список кортежей (топ токенов, когерентность), отсортированных по убыванию последней. Вычислите среднюю по всем темам когерентность для каждой из двух моделей и передайте в функцию save_answers3. "
   ]
  },
  {
   "cell_type": "code",
   "execution_count": 20,
   "metadata": {},
   "outputs": [
    {
     "name": "stdout",
     "output_type": "stream",
     "text": [
      "CPU times: user 1min 4s, sys: 20 µs, total: 1min 4s\n",
      "Wall time: 1min 4s\n"
     ]
    }
   ],
   "source": [
    "np.random.seed(76543)\n",
    "%time ldamodel2 = models.ldamodel.LdaModel(corpus2, id2word=dictionary2, num_topics=40, passes=5)"
   ]
  },
  {
   "cell_type": "code",
   "execution_count": 21,
   "metadata": {},
   "outputs": [],
   "source": [
    "coherence2 = np.mean([coh for trash, coh in ldamodel2.top_topics(corpus2)])   "
   ]
  },
  {
   "cell_type": "code",
   "execution_count": 22,
   "metadata": {},
   "outputs": [],
   "source": [
    "coherence = np.mean([coh for trash, coh in ldamodel.top_topics(corpus)])"
   ]
  },
  {
   "cell_type": "code",
   "execution_count": 23,
   "metadata": {},
   "outputs": [],
   "source": [
    "def save_answers3(coherence, coherence2):\n",
    "    with open(\"cooking_LDA_pa_task3.txt\", \"w\") as fout:\n",
    "        fout.write(\" \".join([\"%3f\"%el for el in [coherence, coherence2]]))"
   ]
  },
  {
   "cell_type": "code",
   "execution_count": 24,
   "metadata": {},
   "outputs": [],
   "source": [
    "save_answers3(coherence, coherence2)"
   ]
  },
  {
   "cell_type": "markdown",
   "metadata": {},
   "source": [
    "Считается, что когерентность хорошо соотносится с человеческими оценками интерпретируемости тем. Поэтому на больших текстовых коллекциях когерентность обычно повышается, если убрать фоновую лексику. Однако в нашем случае этого не произошло. "
   ]
  },
  {
   "cell_type": "markdown",
   "metadata": {},
   "source": [
    "### Изучение влияния гиперпараметра alpha"
   ]
  },
  {
   "cell_type": "markdown",
   "metadata": {},
   "source": [
    "В этом разделе мы будем работать со второй моделью, то есть той, которая построена по сокращенному корпусу. \n",
    "\n",
    "Пока что мы посмотрели только на матрицу темы-слова, теперь давайте посмотрим на матрицу темы-документы. Выведите темы для нулевого (или любого другого) документа из корпуса, воспользовавшись методом *get_document_topics* второй модели:"
   ]
  },
  {
   "cell_type": "code",
   "execution_count": 25,
   "metadata": {},
   "outputs": [
    {
     "data": {
      "text/plain": [
       "[(17, 0.128125), (20, 0.12812499999999996), (31, 0.6281249999999858)]"
      ]
     },
     "execution_count": 25,
     "metadata": {},
     "output_type": "execute_result"
    }
   ],
   "source": [
    "ldamodel2.get_document_topics(corpus2[0])"
   ]
  },
  {
   "cell_type": "markdown",
   "metadata": {},
   "source": [
    "Также выведите содержимое переменной *.alpha* второй модели:"
   ]
  },
  {
   "cell_type": "code",
   "execution_count": 26,
   "metadata": {},
   "outputs": [
    {
     "data": {
      "text/plain": [
       "array([0.025, 0.025, 0.025, 0.025, 0.025, 0.025, 0.025, 0.025, 0.025,\n",
       "       0.025, 0.025, 0.025, 0.025, 0.025, 0.025, 0.025, 0.025, 0.025,\n",
       "       0.025, 0.025, 0.025, 0.025, 0.025, 0.025, 0.025, 0.025, 0.025,\n",
       "       0.025, 0.025, 0.025, 0.025, 0.025, 0.025, 0.025, 0.025, 0.025,\n",
       "       0.025, 0.025, 0.025, 0.025])"
      ]
     },
     "execution_count": 26,
     "metadata": {},
     "output_type": "execute_result"
    }
   ],
   "source": [
    "ldamodel2.alpha"
   ]
  },
  {
   "cell_type": "markdown",
   "metadata": {},
   "source": [
    "У вас должно получиться, что документ характеризуется небольшим числом тем. Попробуем поменять гиперпараметр alpha, задающий априорное распределение Дирихле для распределений тем в документах."
   ]
  },
  {
   "cell_type": "markdown",
   "metadata": {},
   "source": [
    "__Задание 4.__ Обучите третью модель: используйте сокращенный корпус (corpus2 и dictionary2) и установите параметр __alpha=1__, passes=5. Не забудьте про фиксацию seed! Выведите темы новой модели для нулевого документа; должно получиться, что распределение над множеством тем практически равномерное. Чтобы убедиться в том, что во второй модели документы описываются гораздо более разреженными распределениями, чем в третьей, посчитайте суммарное количество элементов, __превосходящих 0.01__, в матрицах темы-документы обеих моделей. Другими словами, запросите темы  модели для каждого документа с параметром *minimum_probability=0.01* и просуммируйте число элементов в получаемых массивах. Передайте две суммы (сначала для модели с alpha по умолчанию, затем для модели в alpha=1) в функцию save_answers4."
   ]
  },
  {
   "cell_type": "code",
   "execution_count": 27,
   "metadata": {},
   "outputs": [
    {
     "name": "stdout",
     "output_type": "stream",
     "text": [
      "CPU times: user 57.6 s, sys: 12 ms, total: 57.7 s\n",
      "Wall time: 57.7 s\n"
     ]
    }
   ],
   "source": [
    "np.random.seed(76543)\n",
    "%time ldamodel3 = models.ldamodel.LdaModel(corpus2, id2word=dictionary2, num_topics=40, alpha=1, passes=5)"
   ]
  },
  {
   "cell_type": "code",
   "execution_count": 28,
   "metadata": {},
   "outputs": [],
   "source": [
    "count_model3 = sum([len(ldamodel3.get_document_topics(token, minimum_probability=0.01)) for token in corpus2])"
   ]
  },
  {
   "cell_type": "code",
   "execution_count": 29,
   "metadata": {},
   "outputs": [],
   "source": [
    "count_model2 = sum([len(ldamodel2.get_document_topics(token, minimum_probability=0.01)) for token in corpus2])"
   ]
  },
  {
   "cell_type": "code",
   "execution_count": 30,
   "metadata": {},
   "outputs": [
    {
     "name": "stdout",
     "output_type": "stream",
     "text": [
      "200755 1590960\n"
     ]
    }
   ],
   "source": [
    "print(count_model2, count_model3)"
   ]
  },
  {
   "cell_type": "code",
   "execution_count": 31,
   "metadata": {},
   "outputs": [],
   "source": [
    "def save_answers4(count_model2, count_model3):\n",
    "    with open(\"cooking_LDA_pa_task4.txt\", \"w\") as fout:\n",
    "        fout.write(\" \".join([str(el) for el in [count_model2, count_model3]]))"
   ]
  },
  {
   "cell_type": "code",
   "execution_count": 32,
   "metadata": {},
   "outputs": [],
   "source": [
    "save_answers4(count_model2, count_model3)"
   ]
  },
  {
   "cell_type": "markdown",
   "metadata": {},
   "source": [
    "Таким образом, гиперпараметр __alpha__ влияет на разреженность распределений тем в документах. Аналогично гиперпараметр __eta__ влияет на разреженность распределений слов в темах."
   ]
  },
  {
   "cell_type": "markdown",
   "metadata": {},
   "source": [
    "### LDA как способ понижения размерности\n",
    "Иногда, распределения над темами, найденные с помощью LDA, добавляют в матрицу объекты-признаки как дополнительные, семантические, признаки, и это может улучшить качество решения задачи. Для простоты давайте просто обучим классификатор рецептов на кухни на признаках, полученных из LDA, и измерим точность (accuracy).\n",
    "\n",
    "__Задание 5.__ Используйте модель, построенную по сокращенной выборке с alpha по умолчанию (вторую модель). Составьте матрицу $\\Theta = p(t|d)$ вероятностей тем в документах; вы можете использовать тот же метод get_document_topics, а также вектор правильных ответов y (в том же порядке, в котором рецепты идут в переменной recipes). Создайте объект RandomForestClassifier со 100 деревьями, с помощью функции cross_val_score вычислите среднюю accuracy по трем фолдам (перемешивать данные не нужно) и передайте в функцию save_answers5."
   ]
  },
  {
   "cell_type": "code",
   "execution_count": 33,
   "metadata": {},
   "outputs": [
    {
     "name": "stderr",
     "output_type": "stream",
     "text": [
      "/usr/local/lib/python3.6/dist-packages/sklearn/ensemble/weight_boosting.py:29: DeprecationWarning: numpy.core.umath_tests is an internal NumPy module and should not be imported. It will be removed in a future NumPy release.\n",
      "  from numpy.core.umath_tests import inner1d\n",
      "/usr/local/lib/python3.6/dist-packages/sklearn/cross_validation.py:44: DeprecationWarning: This module was deprecated in version 0.18 in favor of the model_selection module into which all the refactored classes and functions are moved. Also note that the interface of the new CV iterators are different from that of this module. This module will be removed in 0.20.\n",
      "  \"This module will be removed in 0.20.\", DeprecationWarning)\n"
     ]
    }
   ],
   "source": [
    "from sklearn.ensemble import RandomForestClassifier\n",
    "from sklearn.cross_validation import cross_val_score"
   ]
  },
  {
   "cell_type": "code",
   "execution_count": 34,
   "metadata": {},
   "outputs": [
    {
     "name": "stdout",
     "output_type": "stream",
     "text": [
      "(39774, 40)\n",
      "(39774,)\n"
     ]
    }
   ],
   "source": [
    "X = np.zeros((len(recipes), ldamodel2.num_topics))\n",
    "for document in range( len(corpus2) ):\n",
    "    for theme, probability in ldamodel2.get_document_topics(corpus2[document]):\n",
    "        X[document][theme] = probability\n",
    "y = np.array([recipe['cuisine'] for recipe in recipes])\n",
    "print(X.shape)\n",
    "print(y.shape)"
   ]
  },
  {
   "cell_type": "code",
   "execution_count": 35,
   "metadata": {},
   "outputs": [],
   "source": [
    "classifier = RandomForestClassifier(n_estimators=100)"
   ]
  },
  {
   "cell_type": "code",
   "execution_count": 36,
   "metadata": {},
   "outputs": [
    {
     "name": "stdout",
     "output_type": "stream",
     "text": [
      "CPU times: user 306 ms, sys: 84 ms, total: 390 ms\n",
      "Wall time: 8.53 s\n"
     ]
    }
   ],
   "source": [
    "%time cvs_mean = np.mean(cross_val_score(classifier, X, y, scoring='accuracy', cv=3, n_jobs=-1))"
   ]
  },
  {
   "cell_type": "code",
   "execution_count": 37,
   "metadata": {},
   "outputs": [],
   "source": [
    "def save_answers5(accuracy):\n",
    "     with open(\"cooking_LDA_pa_task5.txt\", \"w\") as fout:\n",
    "        fout.write(str(accuracy))"
   ]
  },
  {
   "cell_type": "code",
   "execution_count": 38,
   "metadata": {},
   "outputs": [],
   "source": [
    "save_answers5(cvs_mean)"
   ]
  },
  {
   "cell_type": "markdown",
   "metadata": {},
   "source": [
    "Для такого большого количества классов это неплохая точность. Вы можете попроовать обучать RandomForest на исходной матрице частот слов, имеющей значительно большую размерность, и увидеть, что accuracy увеличивается на 10–15%. Таким образом, LDA собрал не всю, но достаточно большую часть информации из выборки, в матрице низкого ранга."
   ]
  },
  {
   "cell_type": "markdown",
   "metadata": {},
   "source": [
    "### LDA — вероятностная модель\n",
    "Матричное разложение, использующееся в LDA, интерпретируется как следующий процесс генерации документов.\n",
    "\n",
    "Для документа $d$ длины $n_d$:\n",
    "1. Из априорного распределения Дирихле с параметром alpha сгенерировать распределение над множеством тем: $\\theta_d \\sim Dirichlet(\\alpha)$\n",
    "1. Для каждого слова $w = 1, \\dots, n_d$:\n",
    "    1. Сгенерировать тему из дискретного распределения $t \\sim \\theta_{d}$\n",
    "    1. Сгенерировать слово из дискретного распределения $w \\sim \\phi_{t}$.\n",
    "    \n",
    "Подробнее об этом в [Википедии](https://en.wikipedia.org/wiki/Latent_Dirichlet_allocation).\n",
    "\n",
    "В контексте нашей задачи получается, что, используя данный генеративный процесс, можно создавать новые рецепты. Вы можете передать в функцию модель и число ингредиентов и сгенерировать рецепт :)"
   ]
  },
  {
   "cell_type": "code",
   "execution_count": 39,
   "metadata": {},
   "outputs": [],
   "source": [
    "def generate_recipe(model, num_ingredients):\n",
    "    theta = np.random.dirichlet(model.alpha)\n",
    "    for i in range(num_ingredients):\n",
    "        t = np.random.choice(np.arange(model.num_topics), p=theta)\n",
    "        topic = model.show_topic(t, topn=model.num_terms)\n",
    "        topic_distr = [x[1] for x in topic]\n",
    "        terms = [x[0] for x in topic]\n",
    "        w = np.random.choice(terms, p=topic_distr)\n",
    "        print(w)"
   ]
  },
  {
   "cell_type": "code",
   "execution_count": 40,
   "metadata": {},
   "outputs": [
    {
     "name": "stdout",
     "output_type": "stream",
     "text": [
      "extra-virgin olive oil\n",
      "spices\n",
      "chili\n",
      "shallots\n",
      "provolone cheese\n"
     ]
    }
   ],
   "source": [
    "generate_recipe(ldamodel2, 5)"
   ]
  },
  {
   "cell_type": "markdown",
   "metadata": {},
   "source": [
    "### Интерпретация построенной модели\n",
    "Вы можете рассмотреть топы ингредиентов каждой темы. Большиснтво тем сами по себе похожи на рецепты; в некоторых собираются продукты одного вида, например, свежие фрукты или разные виды сыра.\n",
    "\n",
    "Попробуем эмпирически соотнести наши темы с национальными кухнями (cuisine). Построим матрицу $A$ размера темы $x$ кухни, ее элементы $a_{tc}$ — суммы $p(t|d)$ по всем документам $d$, которые отнесены к кухне $c$. Нормируем матрицу на частоты рецептов по разным кухням, чтобы избежать дисбаланса между кухнями. Следующая функция получает на вход объект модели, объект корпуса и исходные данные и возвращает нормированную матрицу $A$. Ее удобно визуализировать с помощью seaborn."
   ]
  },
  {
   "cell_type": "code",
   "execution_count": 41,
   "metadata": {},
   "outputs": [],
   "source": [
    "import pandas\n",
    "import seaborn\n",
    "from matplotlib import pyplot as plt\n",
    "%matplotlib inline"
   ]
  },
  {
   "cell_type": "code",
   "execution_count": 46,
   "metadata": {},
   "outputs": [],
   "source": [
    "def compute_topic_cuisine_matrix(model, corpus, recipes):\n",
    "    # составляем вектор целевых признаков\n",
    "    targets = list(set([recipe[\"cuisine\"] for recipe in recipes]))\n",
    "    # составляем матрицу\n",
    "    tc_matrix = pandas.DataFrame(data=np.zeros((model.num_topics, len(targets))), columns=targets)\n",
    "    for recipe, bow in zip(recipes, corpus):\n",
    "        recipe_topic = model.get_document_topics(bow)\n",
    "        for t, prob in recipe_topic:\n",
    "            tc_matrix[recipe[\"cuisine\"]][t] += prob\n",
    "    # нормируем матрицу\n",
    "    target_sums = pandas.DataFrame(data=np.zeros((1, len(targets))), columns=targets)\n",
    "    for recipe in recipes:\n",
    "        target_sums[recipe[\"cuisine\"]] += 1\n",
    "    return pandas.DataFrame(tc_matrix.values/target_sums.values, columns=tc_matrix.columns)"
   ]
  },
  {
   "cell_type": "code",
   "execution_count": 47,
   "metadata": {},
   "outputs": [],
   "source": [
    "def plot_matrix(tc_matrix):\n",
    "    plt.figure(figsize=(10, 10))\n",
    "    seaborn.heatmap(tc_matrix, square=True)"
   ]
  },
  {
   "cell_type": "code",
   "execution_count": 48,
   "metadata": {},
   "outputs": [
    {
     "data": {
      "image/png": "[encoded data removed]",
      "text/plain": [
       "<Figure size 720x720 with 2 Axes>"
      ]
     },
     "metadata": {
      "needs_background": "light"
     },
     "output_type": "display_data"
    }
   ],
   "source": [
    "# Визуализируйте матрицу\n",
    "plot_matrix(compute_topic_cuisine_matrix(ldamodel2, corpus2, recipes))"
   ]
  },
  {
   "cell_type": "markdown",
   "metadata": {},
   "source": [
    "Чем темнее квадрат в матрице, тем больше связь этой темы с данной кухней. Мы видим, что у нас есть темы, которые связаны с несколькими кухнями. Такие темы показывают набор ингредиентов, которые популярны в кухнях нескольких народов, то есть указывают на схожесть кухонь этих народов. Некоторые темы распределены по всем кухням равномерно, они показывают наборы продуктов, которые часто используются в кулинарии всех стран. "
   ]
  },
  {
   "cell_type": "markdown",
   "metadata": {},
   "source": [
    "Жаль, что в датасете нет названий рецептов, иначе темы было бы проще интерпретировать..."
   ]
  },
  {
   "cell_type": "markdown",
   "metadata": {},
   "source": [
    "### Заключение\n",
    "В этом задании вы построили несколько моделей LDA, посмотрели, на что влияют гиперпараметры модели и как можно использовать построенную модель. "
   ]
  }
 ],
 "metadata": {
  "kernelspec": {
   "display_name": "Python 3",
   "language": "python",
   "name": "python3"
  },
  "language_info": {
   "codemirror_mode": {
    "name": "ipython",
    "version": 3
   },
   "file_extension": ".py",
   "mimetype": "text/x-python",
   "name": "python",
   "nbconvert_exporter": "python",
   "pygments_lexer": "ipython3",
   "version": "3.6.8"
  }
 },
 "nbformat": 4,
 "nbformat_minor": 1
}
